{
 "cells": [
  {
   "cell_type": "markdown",
   "id": "76c7b679-5e32-4ec6-836e-d6eaaf0b14a6",
   "metadata": {},
   "source": [
    "# Data Science Tools & Ecosystem"
   ]
  },
  {
   "cell_type": "markdown",
   "id": "62e183dc-b558-455c-999b-667832e79998",
   "metadata": {},
   "source": [
    "In this notebook, Data Science Tools and Ecosystem are summarized."
   ]
  },
  {
   "cell_type": "markdown",
   "id": "c5cd111c-9fb7-4d56-8788-2e3c131d683f",
   "metadata": {},
   "source": [
    "**Objectives:**\n",
    "* Popular Languages\n",
    "* Commonly Used Libraries\n",
    "* Data Science Tools\n",
    "* Multiplying & Adding Numbers\n",
    "* Conversion of Hours to Minutes\n"
   ]
  },
  {
   "cell_type": "markdown",
   "id": "90ef7c95-f0e2-49ee-9cc3-3ca0092e3cc4",
   "metadata": {},
   "source": [
    "Some of the popular languages that Data Scientists use are:\n",
    "1. Python\n",
    "2. R\n",
    "3. SQL"
   ]
  },
  {
   "cell_type": "markdown",
   "id": "66f715bc-d7ae-485b-80fd-03f4eea1b2e5",
   "metadata": {},
   "source": [
    "Some of the commonly used libraries used by Data Scientists include:\n",
    "1. Pandas\n",
    "2. NumPy\n",
    "3. TensorFlow"
   ]
  },
  {
   "cell_type": "markdown",
   "id": "e8fdca7a-7d73-4964-863d-eec6fff5ca0b",
   "metadata": {},
   "source": [
    "| Data Science Tools |\n",
    "|--------------------|\n",
    "| Jupyter Lab |\n",
    "| VS Code |\n",
    "| RStudio ||"
   ]
  },
  {
   "cell_type": "markdown",
   "id": "47536ea3-f164-4ee7-ae5d-489bbcfc171e",
   "metadata": {},
   "source": [
    "### Below are a few examples of evaluating arithmetic expressions in Python"
   ]
  },
  {
   "cell_type": "code",
   "execution_count": 1,
   "id": "053bbb69-5107-40f8-9649-0438526c235e",
   "metadata": {
    "tags": []
   },
   "outputs": [
    {
     "data": {
      "text/plain": [
       "17"
      ]
     },
     "execution_count": 1,
     "metadata": {},
     "output_type": "execute_result"
    }
   ],
   "source": [
    "# This a simple arithmetic expression to mutiply then add integers\n",
    "(3*4)+5"
   ]
  },
  {
   "cell_type": "code",
   "execution_count": 4,
   "id": "a3b64289-b520-47d6-98f7-bebe40aafa27",
   "metadata": {
    "tags": []
   },
   "outputs": [
    {
     "name": "stdout",
     "output_type": "stream",
     "text": [
      "200 minutes is equal to 3.3333333333333335 hours.\n"
     ]
    }
   ],
   "source": [
    "# This will convert 200 minutes to hours by dividing by 60\n",
    "hours = 200/60\n",
    "print(f\"200 minutes is equal to {hours} hours.\")"
   ]
  },
  {
   "cell_type": "markdown",
   "id": "f47f1870-a108-4caa-9303-d7a97d835c8d",
   "metadata": {},
   "source": [
    "## Author\n",
    "Pramit Wagh"
   ]
  },
  {
   "cell_type": "code",
   "execution_count": null,
   "id": "e613c43e-907a-4a0c-bfc5-06f93ace0153",
   "metadata": {},
   "outputs": [],
   "source": []
  }
 ],
 "metadata": {
  "kernelspec": {
   "display_name": "Python",
   "language": "python",
   "name": "conda-env-python-py"
  },
  "language_info": {
   "codemirror_mode": {
    "name": "ipython",
    "version": 3
   },
   "file_extension": ".py",
   "mimetype": "text/x-python",
   "name": "python",
   "nbconvert_exporter": "python",
   "pygments_lexer": "ipython3",
   "version": "3.7.12"
  }
 },
 "nbformat": 4,
 "nbformat_minor": 5
}
